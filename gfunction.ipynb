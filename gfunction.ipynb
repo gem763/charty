{
 "cells": [
  {
   "cell_type": "code",
   "execution_count": 2,
   "id": "17c17bc5",
   "metadata": {},
   "outputs": [],
   "source": [
    "from pykrx import stock"
   ]
  },
  {
   "cell_type": "code",
   "execution_count": 3,
   "id": "ef7e478d",
   "metadata": {},
   "outputs": [],
   "source": [
    "df = stock.get_market_ohlcv(\"20150720\", \"20150810\", \"005930\")"
   ]
  },
  {
   "cell_type": "code",
   "execution_count": 8,
   "id": "f143e6f8",
   "metadata": {},
   "outputs": [
    {
     "data": {
      "text/plain": [
       "날짜\n",
       "2015-07-20    25500\n",
       "2015-07-21    25260\n",
       "2015-07-22    25060\n",
       "2015-07-23    24680\n",
       "2015-07-24    24580\n",
       "2015-07-27    24600\n",
       "2015-07-28    24600\n",
       "2015-07-29    25260\n",
       "2015-07-30    24300\n",
       "2015-07-31    23700\n",
       "2015-08-03    23500\n",
       "2015-08-04    23640\n",
       "2015-08-05    23180\n",
       "2015-08-06    22300\n",
       "2015-08-07    22720\n",
       "2015-08-10    22820\n",
       "Name: 종가, dtype: int32"
      ]
     },
     "execution_count": 8,
     "metadata": {},
     "output_type": "execute_result"
    }
   ],
   "source": [
    "p = df['종가']; p"
   ]
  },
  {
   "cell_type": "code",
   "execution_count": 18,
   "id": "eff7945a",
   "metadata": {},
   "outputs": [
    {
     "data": {
      "text/plain": [
       "'{\"2015-07-20T00:00:00.000Z\":25500,\"2015-07-21T00:00:00.000Z\":25260,\"2015-07-22T00:00:00.000Z\":25060,\"2015-07-23T00:00:00.000Z\":24680,\"2015-07-24T00:00:00.000Z\":24580,\"2015-07-27T00:00:00.000Z\":24600,\"2015-07-28T00:00:00.000Z\":24600,\"2015-07-29T00:00:00.000Z\":25260,\"2015-07-30T00:00:00.000Z\":24300,\"2015-07-31T00:00:00.000Z\":23700,\"2015-08-03T00:00:00.000Z\":23500,\"2015-08-04T00:00:00.000Z\":23640,\"2015-08-05T00:00:00.000Z\":23180,\"2015-08-06T00:00:00.000Z\":22300,\"2015-08-07T00:00:00.000Z\":22720,\"2015-08-10T00:00:00.000Z\":22820}'"
      ]
     },
     "execution_count": 18,
     "metadata": {},
     "output_type": "execute_result"
    }
   ],
   "source": [
    "p.to_json(date_format=\"iso\")"
   ]
  },
  {
   "cell_type": "code",
   "execution_count": 20,
   "id": "f6a1bfe0",
   "metadata": {},
   "outputs": [],
   "source": [
    "p.index = p.index.strftime('%Y-%m-%d')"
   ]
  },
  {
   "cell_type": "code",
   "execution_count": 24,
   "id": "3adcbf17",
   "metadata": {},
   "outputs": [
    {
     "data": {
      "text/plain": [
       "'2015-07-20'"
      ]
     },
     "execution_count": 24,
     "metadata": {},
     "output_type": "execute_result"
    }
   ],
   "source": [
    "p.index[0]"
   ]
  },
  {
   "cell_type": "code",
   "execution_count": null,
   "id": "5e5c6cf8",
   "metadata": {},
   "outputs": [],
   "source": []
  }
 ],
 "metadata": {
  "kernelspec": {
   "display_name": "venv",
   "language": "python",
   "name": ".venv"
  },
  "language_info": {
   "codemirror_mode": {
    "name": "ipython",
    "version": 3
   },
   "file_extension": ".py",
   "mimetype": "text/x-python",
   "name": "python",
   "nbconvert_exporter": "python",
   "pygments_lexer": "ipython3",
   "version": "3.8.5"
  }
 },
 "nbformat": 4,
 "nbformat_minor": 5
}
